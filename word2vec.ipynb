{
 "cells": [
  {
   "cell_type": "markdown",
   "id": "97d9dca5",
   "metadata": {},
   "source": [
    "# Load Pre-trained"
   ]
  },
  {
   "cell_type": "code",
   "execution_count": 1,
   "id": "5ef88f61",
   "metadata": {},
   "outputs": [],
   "source": [
    "import numpy as np\n",
    "import seaborn as sns\n",
    "import matplotlib.pylab as plt"
   ]
  },
  {
   "cell_type": "code",
   "execution_count": 2,
   "id": "80261f7a",
   "metadata": {},
   "outputs": [],
   "source": [
    "from pymagnitude import *\n",
    "# local loading\n",
    "file_path = 'GoogleNews-vectors-negative300.magnitude'\n",
    "# remote loading\n",
    "# file_path = 'http://magnitude.plasticity.ai/word2vec/heavy/GoogleNews-vectors-negative300.magnitude'\n",
    "vectors = Magnitude(file_path)"
   ]
  },
  {
   "cell_type": "markdown",
   "id": "b0ba73ad",
   "metadata": {},
   "source": [
    "# Answers"
   ]
  },
  {
   "cell_type": "markdown",
   "id": "a2c67416",
   "metadata": {},
   "source": [
    "## Q1: Dimensionality"
   ]
  },
  {
   "cell_type": "code",
   "execution_count": 3,
   "id": "84b67a43",
   "metadata": {},
   "outputs": [
    {
     "name": "stdout",
     "output_type": "stream",
     "text": [
      "300\n"
     ]
    }
   ],
   "source": [
    "print(vectors.emb_dim)"
   ]
  },
  {
   "cell_type": "markdown",
   "id": "0720537c",
   "metadata": {},
   "source": [
    "The dimensionality of these word embeddings is $300$."
   ]
  },
  {
   "cell_type": "markdown",
   "id": "f404c284",
   "metadata": {},
   "source": [
    "## Q2: Top-5 most similar word"
   ]
  },
  {
   "cell_type": "code",
   "execution_count": 4,
   "id": "5d4fcd2f",
   "metadata": {},
   "outputs": [
    {
     "data": {
      "text/plain": [
       "[('picnics', 0.7400875),\n",
       " ('picnic_lunch', 0.721374),\n",
       " ('Picnic', 0.700534),\n",
       " ('potluck_picnic', 0.6683274),\n",
       " ('picnic_supper', 0.65189123),\n",
       " ('picnicking', 0.63550216),\n",
       " ('cookout', 0.63243484),\n",
       " ('Hiking_biking_camping', 0.6256069),\n",
       " ('barbeque', 0.62256277),\n",
       " ('barbecue', 0.6195759)]"
      ]
     },
     "execution_count": 4,
     "metadata": {},
     "output_type": "execute_result"
    }
   ],
   "source": [
    "# Top-5 most similar\n",
    "vectors.most_similar('picnic')[:10]"
   ]
  },
  {
   "cell_type": "code",
   "execution_count": 5,
   "id": "788dbab3",
   "metadata": {},
   "outputs": [],
   "source": [
    "?vectors.most_similar"
   ]
  },
  {
   "cell_type": "markdown",
   "id": "db8b52d6",
   "metadata": {},
   "source": [
    "The vectors.most_similar() function returns a list of tuples with words and the corresponding similarity towards to a given word. The above returns show that the top-10 most similar words to picnic. Ignoring 'picnic', the top-5 most similar words to picnic are **picnic_lunch, potluck_picnic, picnic_supper, picnicking** and **cookout**."
   ]
  },
  {
   "cell_type": "markdown",
   "id": "3a0936bf",
   "metadata": {},
   "source": [
    "## Q3: Accoding to the word embeddings, which of these words is not like the others?\n",
    "\n",
    "    ['tissue', 'papyrus', 'manila', 'newsprint', 'parchment', 'gazette']"
   ]
  },
  {
   "cell_type": "code",
   "execution_count": 6,
   "id": "f62f982e",
   "metadata": {},
   "outputs": [],
   "source": [
    "words = ['tissue', 'papyrus', 'manila', 'newsprint', 'parchment', 'gazette']"
   ]
  },
  {
   "cell_type": "code",
   "execution_count": 7,
   "id": "f8d407da",
   "metadata": {},
   "outputs": [],
   "source": [
    "def get_dist_matrix(words, vectors):\n",
    "    \"\"\"\n",
    "    Args:\n",
    "    @param words: (list-like) candidate words\n",
    "    @param vectors: (pymagnitude.Magnitude) word embeddings\n",
    "    \n",
    "    Return:\n",
    "    dist: (np-array) a distance matrix\n",
    "    \"\"\"\n",
    "    n = len(words)\n",
    "    dist_mat = np.zeros(shape=(n, n))\n",
    "    for i in range(n):\n",
    "        for j in range(i+1, n):\n",
    "            dist = vectors.distance(words[i], words[j])\n",
    "            dist_mat[i,j] = dist\n",
    "            dist_mat[j,i] = dist\n",
    "    return dist_mat"
   ]
  },
  {
   "cell_type": "code",
   "execution_count": 8,
   "id": "4cbb66e0",
   "metadata": {},
   "outputs": [],
   "source": [
    "word_dist_mat = get_dist_matrix(words, vectors)"
   ]
  },
  {
   "cell_type": "code",
   "execution_count": 9,
   "id": "2122d050",
   "metadata": {},
   "outputs": [
    {
     "data": {
      "text/plain": [
       "<AxesSubplot:>"
      ]
     },
     "execution_count": 9,
     "metadata": {},
     "output_type": "execute_result"
    },
    {
     "data": {
      "image/png": "[encoded data removed]",
      "text/plain": [
       "<Figure size 432x288 with 2 Axes>"
      ]
     },
     "metadata": {
      "needs_background": "light"
     },
     "output_type": "display_data"
    }
   ],
   "source": [
    "sns.heatmap(\n",
    "    word_dist_mat,\n",
    "    xticklabels = words,\n",
    "    yticklabels = words\n",
    ")"
   ]
  },
  {
   "cell_type": "code",
   "execution_count": 10,
   "id": "deed94f0",
   "metadata": {},
   "outputs": [
    {
     "data": {
      "text/plain": [
       "'tissue'"
      ]
     },
     "execution_count": 10,
     "metadata": {},
     "output_type": "execute_result"
    }
   ],
   "source": [
    "vectors.doesnt_match(words) "
   ]
  },
  {
   "cell_type": "markdown",
   "id": "0e7ac556",
   "metadata": {},
   "source": [
    "The heatmap shows the distances between each pair of words. The ligher the color is, the more different the word is. Hence, 'tissue' is the word that is not like others. We also check the answer with the function of vectors.doesnt_match(), which proves our conclusion."
   ]
  },
  {
   "cell_type": "markdown",
   "id": "3b7a626a",
   "metadata": {},
   "source": [
    "## Q4: Solve the following analogy: leg is to jump as X is to throw"
   ]
  },
  {
   "cell_type": "markdown",
   "id": "fa539550",
   "metadata": {},
   "source": [
    "$$jump - leg = throw - X\n",
    "$$\n"
   ]
  },
  {
   "cell_type": "code",
   "execution_count": 11,
   "id": "45a05cb8",
   "metadata": {},
   "outputs": [
    {
     "data": {
      "text/plain": [
       "[('forearm', 0.48294652)]"
      ]
     },
     "execution_count": 11,
     "metadata": {},
     "output_type": "execute_result"
    }
   ],
   "source": [
    "vectors.most_similar(positive = ['leg', 'throw'], negative = ['jump'])[:1]"
   ]
  },
  {
   "cell_type": "markdown",
   "id": "d5211d5f",
   "metadata": {},
   "source": [
    "Thus, leg is to jump as forearm is to throw"
   ]
  }
 ],
 "metadata": {
  "kernelspec": {
   "display_name": "Python 3 (ipykernel)",
   "language": "python",
   "name": "python3"
  },
  "language_info": {
   "codemirror_mode": {
    "name": "ipython",
    "version": 3
   },
   "file_extension": ".py",
   "mimetype": "text/x-python",
   "name": "python",
   "nbconvert_exporter": "python",
   "pygments_lexer": "ipython3",
   "version": "3.9.7"
  }
 },
 "nbformat": 4,
 "nbformat_minor": 5
}
